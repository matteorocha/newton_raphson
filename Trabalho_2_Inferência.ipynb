{
  "nbformat": 4,
  "nbformat_minor": 0,
  "metadata": {
    "colab": {
      "provenance": [],
      "authorship_tag": "ABX9TyNPZ24i5l3yFXdwvshZunR7",
      "include_colab_link": true
    },
    "kernelspec": {
      "name": "python3",
      "display_name": "Python 3"
    },
    "language_info": {
      "name": "python"
    }
  },
  "cells": [
    {
      "cell_type": "markdown",
      "metadata": {
        "id": "view-in-github",
        "colab_type": "text"
      },
      "source": [
        "<a href=\"https://colab.research.google.com/github/matteorocha/newton_raphson/blob/main/Trabalho_2_Infer%C3%AAncia.ipynb\" target=\"_parent\"><img src=\"https://colab.research.google.com/assets/colab-badge.svg\" alt=\"Open In Colab\"/></a>"
      ]
    },
    {
      "cell_type": "markdown",
      "source": [
        " 1) Usar algoritmo de Newton-Raphson para estimar *u* e compare a estimativa com o EMV da média amostral."
      ],
      "metadata": {
        "id": "2VcRwhN2yWXF"
      }
    },
    {
      "cell_type": "code",
      "source": [
        "# Importação da biblioteca numpy\n",
        "import numpy as np\n",
        "\n",
        "def newton_raphson_mean(x, u0, tol=1e-7, max_iter=100):\n",
        "\n",
        "    n = len(x)\n",
        "    u_k = u0\n",
        "    estimativas = [u_k]\n",
        "\n",
        "    for i in range(max_iter):\n",
        "\n",
        "        # Função g(û) e sua derivada g'(û)\n",
        "        g_u = np.sum(x - u_k)\n",
        "        g_prime_u = -n\n",
        "\n",
        "        # Atualização de Newton-Raphson\n",
        "        if g_prime_u == 0:\n",
        "            print(\"Derivada zero. Método falhou.\")\n",
        "            return None, estimativas\n",
        "\n",
        "\n",
        "        u_next = u_k - g_u / g_prime_u\n",
        "        estimativas.append(u_next)\n",
        "\n",
        "        # Critério de parada\n",
        "        if abs(u_next - u_k) < tol:\n",
        "            print(f\"Convergência alcançada em {i+1} iterações.\")\n",
        "            return u_next, estimativas\n",
        "\n",
        "        u_k = u_next\n",
        "\n",
        "    print(\"Máximo de iterações atingido. Método não convergiu.\")\n",
        "    return None, estimativas\n",
        "\n",
        "# Utilizando dados de Variável 2\n",
        "dados = np.array([199, 267, 272, 166, 239, 189, 238, 223, 279, 190, 240, 209, 210, 171, 255, 232, 147, 268,\n",
        "                  231, 199, 255, 199, 228, 240, 184, 192, 211, 201, 203, 243, 181, 382, 186, 198, 165, 219,\n",
        "                  196, 239, 259, 162, 178, 246, 176, 157, 179, 231, 183, 213, 230, 134, 181, 234, 161, 289,\n",
        "                  186, 298, 211, 189, 164, 219, 287, 179, 216, 224, 212, 230, 231, 185, 180, 205, 219, 286,\n",
        "                  261, 221, 194, 248, 216, 195, 217, 186, 218, 173, 221, 206, 215, 176, 240, 234, 190, 204,\n",
        "                  256, 296, 223, 225, 217, 251, 187, 290, 238, 218])\n",
        "\n",
        "u0 = 1  # Chute inicial\n",
        "emv = np.mean(dados)\n",
        "\n",
        "# Estimativa do algoritmo\n",
        "estimativa, estimativas_hist = newton_raphson_mean(dados, u0)\n",
        "\n",
        "# Resultado das estimativas\n",
        "print(f\"Estimativa de μ pelo método de Newton-Raphson: {estimativa:.2f}\")\n",
        "print(f\"Estimativa de μ pela média (EMV): {emv:.2f}\")\n"
      ],
      "metadata": {
        "colab": {
          "base_uri": "https://localhost:8080/"
        },
        "id": "tf3FxDxw0IwC",
        "outputId": "6ad94c6d-fe57-4571-f735-76245858846b"
      },
      "execution_count": 9,
      "outputs": [
        {
          "output_type": "stream",
          "name": "stdout",
          "text": [
            "Convergência alcançada em 2 iterações.\n",
            "Estimativa de μ pelo método de Newton-Raphson: 216.96\n",
            "Estimativa de μ pela média (EMV): 216.96\n"
          ]
        }
      ]
    },
    {
      "cell_type": "markdown",
      "source": [
        "2) Usar algoritmo de Newton-Raphson para estimar o² e compare a estimativa EMV"
      ],
      "metadata": {
        "id": "SivNhfOr1wPP"
      }
    },
    {
      "cell_type": "code",
      "source": [
        "# Importação da biblioteca numpy\n",
        "import numpy as np\n",
        "\n",
        "def newton_raphson_variance(x, sigma2_0, tol=1e-7, max_iter=100):\n",
        "\n",
        "    n = len(x)\n",
        "    mean_x = np.mean(x)\n",
        "    S = np.sum((x - mean_x)**2)  # Soma dos quadrados\n",
        "    sigma2_k = sigma2_0\n",
        "    estimativas = [sigma2_0]\n",
        "\n",
        "    for i in range(max_iter):\n",
        "\n",
        "        # Calcula h(σ^2) e sua derivada h'(σ^2)\n",
        "        h_sigma2 = -n / (2 * sigma2_k) + S / (2 * sigma2_k**2)\n",
        "        h_prime_sigma2 = n / (2 * sigma2_k**2) - S / (sigma2_k**3)\n",
        "\n",
        "        if h_prime_sigma2 == 0:\n",
        "            print(\"Derivada zero. Método falhou.\")\n",
        "            return None, estimativas\n",
        "\n",
        "        # Atualização de Newton-Raphson\n",
        "        sigma2_next = sigma2_k - h_sigma2 / h_prime_sigma2\n",
        "        estimativas.append(sigma2_next)\n",
        "\n",
        "        # Critério de parada\n",
        "        if abs(sigma2_next - sigma2_k) < tol:\n",
        "            print(f\"Convergência alcançada em {i+1} iterações.\")\n",
        "            return sigma2_next, estimativas\n",
        "\n",
        "        sigma2_k = sigma2_next\n",
        "\n",
        "    print(\"Máximo de iterações atingido. Método não convergiu.\")\n",
        "    return None, estimativas\n",
        "\n",
        "# Utilizando dados da Variável 2\n",
        "dados = np.array([199, 267, 272, 166, 239, 189, 238, 223, 279, 190, 240, 209, 210, 171, 255, 232, 147, 268,\n",
        "                  231, 199, 255, 199, 228, 240, 184, 192, 211, 201, 203, 243, 181, 382, 186, 198, 165, 219,\n",
        "                  196, 239, 259, 162, 178, 246, 176, 157, 179, 231, 183, 213, 230, 134, 181, 234, 161, 289,\n",
        "                  186, 298, 211, 189, 164, 219, 287, 179, 216, 224, 212, 230, 231, 185, 180, 205, 219, 286,\n",
        "                  261, 221, 194, 248, 216, 195, 217, 186, 218, 173, 221, 206, 215, 176, 240, 234, 190, 204,\n",
        "                  256, 296, 223, 225, 217, 251, 187, 290, 238, 218])\n",
        "\n",
        "sigma2_0 = 1  # Chute inicial\n",
        "emv_sigma2 = np.var(dados, ddof=0)  # EMV: Variância amostral não corrigida\n",
        "\n",
        "# Estimativa usando Newton-Raphson\n",
        "Estimativa_sigma2, estimativas_hist_sigma2 = newton_raphson_variance(dados, sigma2_0)\n",
        "\n",
        "# Resultado das estimativas\n",
        "print(f\"Estimativa de σ² pelo método de Newton-Raphson: {Estimativa_sigma2:.2f}\")\n",
        "print(f\"Estimativa de σ² pela fórmula EMV: {emv_sigma2:.2f}\")\n"
      ],
      "metadata": {
        "colab": {
          "base_uri": "https://localhost:8080/"
        },
        "id": "N5dV-wlO04jH",
        "outputId": "3898603f-0b09-4a68-91d4-8158fa4505cd"
      },
      "execution_count": 8,
      "outputs": [
        {
          "output_type": "stream",
          "name": "stdout",
          "text": [
            "Convergência alcançada em 25 iterações.\n",
            "Estimativa de σ² pelo método de Newton-Raphson: 1494.88\n",
            "Estimativa de σ² pela fórmula EMV: 1494.88\n"
          ]
        }
      ]
    }
  ]
}