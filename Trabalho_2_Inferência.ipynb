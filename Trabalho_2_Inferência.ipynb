{
  "nbformat": 4,
  "nbformat_minor": 0,
  "metadata": {
    "colab": {
      "provenance": [],
      "authorship_tag": "ABX9TyOvloF5iHB1moQdO4YojvMu",
      "include_colab_link": true
    },
    "kernelspec": {
      "name": "python3",
      "display_name": "Python 3"
    },
    "language_info": {
      "name": "python"
    }
  },
  "cells": [
    {
      "cell_type": "markdown",
      "metadata": {
        "id": "view-in-github",
        "colab_type": "text"
      },
      "source": [
        "<a href=\"https://colab.research.google.com/github/matteorocha/newton_raphson/blob/main/Trabalho_2_Infer%C3%AAncia.ipynb\" target=\"_parent\"><img src=\"https://colab.research.google.com/assets/colab-badge.svg\" alt=\"Open In Colab\"/></a>"
      ]
    },
    {
      "cell_type": "markdown",
      "source": [
        " 1) Usar algoritmo de Newton-Raphson para estimar *u* e compare a estimativa com o EMV da média amostral."
      ],
      "metadata": {
        "id": "2VcRwhN2yWXF"
      }
    },
    {
      "cell_type": "code",
      "source": [
        "import numpy as np\n",
        "\n",
        "def newton_raphson_mean(x, u0, tol=1e-7, max_iter=100):\n",
        "    \"\"\"\n",
        "    Estima a média populacional (μ) usando o método de Newton-Raphson.\n",
        "\n",
        "    Parâmetros:\n",
        "        x (array-like): Dados amostrais.\n",
        "        u0 (float): Chute inicial para a média.\n",
        "        tol (float): Tolerância para critério de parada. Padrão: 1e-7.\n",
        "        max_iter (int): Número máximo de iterações. Padrão: 100.\n",
        "\n",
        "    Retorna:\n",
        "        μ (float): Estimativa da média populacional.\n",
        "        estimativas (list): Histórico das estimativas ao longo das iterações.\n",
        "    \"\"\"\n",
        "    n = len(x)\n",
        "    u_k = u0\n",
        "    estimativas = [u_k]\n",
        "\n",
        "    # Cálculo da g(û) e a derivada g'(û)\n",
        "    for i in range(max_iter):\n",
        "        g_u = np.sum(x - u_k)\n",
        "        g_prime_u = -n\n",
        "\n",
        "        if g_prime_u == 0:\n",
        "            return None, estimativas  # Evita divisão por zero\n",
        "\n",
        "        # Atualização de Newton-Raphson\n",
        "        u_next = u_k - g_u / g_prime_u\n",
        "        estimativas.append(u_next)\n",
        "\n",
        "        if abs(u_next - u_k) < tol:  # Critério de parada\n",
        "            return u_next, estimativas\n",
        "\n",
        "        u_k = u_next\n",
        "\n",
        "    return None, estimativas  # Não convergiu\n",
        "\n",
        "# Dados fornecidos da variável 2\n",
        "dados = np.array([199, 267, 272, 166, 239, 189, 238, 223, 279, 190, 240, 209, 210, 171, 255, 232, 147, 268,\n",
        "                  231, 199, 255, 199, 228, 240, 184, 192, 211, 201, 203, 243, 181, 382, 186, 198, 165, 219,\n",
        "                  196, 239, 259, 162, 178, 246, 176, 157, 179, 231, 183, 213, 230, 134, 181, 234, 161, 289,\n",
        "                  186, 298, 211, 189, 164, 219, 287, 179, 216, 224, 212, 230, 231, 185, 180, 205, 219, 286,\n",
        "                  261, 221, 194, 248, 216, 195, 217, 186, 218, 173, 221, 206, 215, 176, 240, 234, 190, 204,\n",
        "                  256, 296, 223, 225, 217, 251, 187, 290, 238, 218])\n",
        "\n",
        "u0 = 1  # Chute inicial\n",
        "emv = np.mean(dados)  # Média amostral (EMV)\n",
        "estimativa, _ = newton_raphson_mean(dados, u0)\n",
        "\n",
        "# Resutado das estimativas:\n",
        "print(f\"Estimativa μ para Newton-Raphson: {estimativa:.2f}\")\n",
        "print(f\"Estimativa μ para o EMV: {emv:.2f}\")"
      ],
      "metadata": {
        "colab": {
          "base_uri": "https://localhost:8080/"
        },
        "id": "tf3FxDxw0IwC",
        "outputId": "7f25564e-cbd9-4146-9dae-7d79786f3bd9"
      },
      "execution_count": 6,
      "outputs": [
        {
          "output_type": "stream",
          "name": "stdout",
          "text": [
            "Estimativa μ para Newton-Raphson: 216.96\n",
            "Estimativa μ para o EMV: 216.96\n"
          ]
        }
      ]
    },
    {
      "cell_type": "markdown",
      "source": [
        "2) Usar algoritmo de Newton-Raphson para estimar o² e compare a estimativa EMV"
      ],
      "metadata": {
        "id": "SivNhfOr1wPP"
      }
    },
    {
      "cell_type": "code",
      "source": [
        "import numpy as np\n",
        "\n",
        "def newton_raphson_variance(x, sigma2_0, tol=1e-7, max_iter=100):\n",
        "    \"\"\"\n",
        "    Estima a variância populacional (σ²) usando o método de Newton-Raphson.\n",
        "\n",
        "    Parâmetros:\n",
        "        x (array-like): Dados amostrais.\n",
        "        sigma2_0 (float): Chute inicial para a variância.\n",
        "        tol (float): Tolerância para critério de parada. Padrão: 1e-7.\n",
        "        max_iter (int): Número máximo de iterações. Padrão: 100.\n",
        "\n",
        "    Retorna:\n",
        "        σ² (float): Estimativa da variância populacional.\n",
        "        estimativas (list): Histórico das estimativas ao longo das iterações.\n",
        "    \"\"\"\n",
        "    n, mean_x = len(x), np.mean(x)\n",
        "    S = np.sum((x - mean_x)**2)\n",
        "    sigma2_k = sigma2_0\n",
        "    estimativas = [sigma2_0]\n",
        "\n",
        "    # Cálculo da h(ô²) e a derivada h(ô²)\n",
        "    for i in range(max_iter):\n",
        "        h_sigma2 = -n / (2 * sigma2_k) + S / (2 * sigma2_k**2)\n",
        "        h_prime_sigma2 = n / (2 * sigma2_k**2) - S / (sigma2_k**3)\n",
        "\n",
        "        if h_prime_sigma2 == 0:\n",
        "            return None, estimativas\n",
        "\n",
        "        # Atualização de Newton-Raphson\n",
        "        sigma2_next = sigma2_k - h_sigma2 / h_prime_sigma2\n",
        "        estimativas.append(sigma2_next)\n",
        "\n",
        "        if abs(sigma2_next - sigma2_k) < tol:\n",
        "            return sigma2_next, estimativas\n",
        "\n",
        "        sigma2_k = sigma2_next\n",
        "\n",
        "    return None, estimativas\n",
        "\n",
        "# Dados fornecidos da variável 2\n",
        "dados = np.array([199, 267, 272, 166, 239, 189, 238, 223, 279, 190, 240, 209, 210, 171, 255, 232, 147, 268,\n",
        "                  231, 199, 255, 199, 228, 240, 184, 192, 211, 201, 203, 243, 181, 382, 186, 198, 165, 219,\n",
        "                  196, 239, 259, 162, 178, 246, 176, 157, 179, 231, 183, 213, 230, 134, 181, 234, 161, 289,\n",
        "                  186, 298, 211, 189, 164, 219, 287, 179, 216, 224, 212, 230, 231, 185, 180, 205, 219, 286,\n",
        "                  261, 221, 194, 248, 216, 195, 217, 186, 218, 173, 221, 206, 215, 176, 240, 234, 190, 204,\n",
        "                  256, 296, 223, 225, 217, 251, 187, 290, 238, 218])\n",
        "\n",
        "sigma2_0 = 1  # Chute inicial\n",
        "emv_sigma2 = np.var(dados, ddof=0)  # Variância não corrigida\n",
        "estimativa_sigma2, _ = newton_raphson_variance(dados, sigma2_0)\n",
        "\n",
        "# Resultado da estimativa\n",
        "print(f\"Estimativa de σ² pelo método de Newton-Raphson: {estimativa_sigma2:.2f}\")\n",
        "print(f\"Estimativa de σ² pela fórmula EMV: {emv_sigma2:.2f}\")\n"
      ],
      "metadata": {
        "colab": {
          "base_uri": "https://localhost:8080/"
        },
        "id": "N5dV-wlO04jH",
        "outputId": "bbc339e4-352c-4827-c399-ab36ccd57136"
      },
      "execution_count": 7,
      "outputs": [
        {
          "output_type": "stream",
          "name": "stdout",
          "text": [
            "Estimativa de σ² pelo método de Newton-Raphson: 1494.88\n",
            "Estimativa de σ² pela fórmula EMV: 1494.88\n"
          ]
        }
      ]
    }
  ]
}